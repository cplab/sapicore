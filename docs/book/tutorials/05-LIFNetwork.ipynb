{
 "cells": [
  {
   "attachments": {},
   "cell_type": "markdown",
   "metadata": {},
   "source": [
    "# LIF Network"
   ]
  },
  {
   "attachments": {},
   "cell_type": "markdown",
   "metadata": {},
   "source": [
    "The Network API of sapinet will help to make building a network less cumbersome and prone to errors by handling among other things how information flow through the network (e.g. adding input to the right node/neurons or handling the first iteration of the simulation)"
   ]
  },
  {
   "cell_type": "code",
   "execution_count": 39,
   "metadata": {},
   "outputs": [],
   "source": [
    "import torch\n",
    "from sapinet.network import Network\n",
    "from sapinet.ensemble.spiking import LIFEnsemble, IZEnsemble\n",
    "from sapinet.synapse.STDP import Synapse, STDPSynapse\n",
    "from sapinet.simulation import Simulator\n",
    "from sapinet.analysis.utils.plotting import spike_raster"
   ]
  },
  {
   "cell_type": "code",
   "execution_count": 40,
   "metadata": {},
   "outputs": [],
   "source": [
    "import networkx as nx\n",
    "import matplotlib.pyplot as plt"
   ]
  },
  {
   "cell_type": "code",
   "execution_count": 41,
   "metadata": {},
   "outputs": [],
   "source": [
    "steps = 100"
   ]
  },
  {
   "cell_type": "code",
   "execution_count": 42,
   "metadata": {},
   "outputs": [],
   "source": [
    "I = torch.ones(steps) * 1000\n",
    "I[int(steps/2):] = 0\n",
    "I[:int(steps/5)] = 0"
   ]
  },
  {
   "cell_type": "code",
   "execution_count": 43,
   "metadata": {},
   "outputs": [],
   "source": [
    "params = {\n",
    "            \"random\" : \n",
    "                {\n",
    "                'volt_rest': {\n",
    "                                'method': 'uniform',\n",
    "                                'args' : [-70.0, 20.0]\n",
    "                            },\n",
    "                'volt_thresh': {\n",
    "                                'method': 'uniform',\n",
    "                                'args' : [-55.0, 40.0]\n",
    "                            },\n",
    "                'leak_gl': {\n",
    "                                'method': 'uniform',\n",
    "                                'args' : [3.0, 3.0]\n",
    "                            },\n",
    "                'tau_mem': {\n",
    "                                'method': 'uniform',\n",
    "                                'args' : [3.0, 3.0]\n",
    "                            },\n",
    "                'tau_ref': {\n",
    "                                'method': 'uniform',\n",
    "                                'args' : [2.0, 2.0]\n",
    "                            },\n",
    "                }\n",
    "}"
   ]
  },
  {
   "cell_type": "code",
   "execution_count": 44,
   "metadata": {},
   "outputs": [],
   "source": [
    "# Define the ensembles\n",
    "ensemble_0 = LIFEnsemble(identifier = 'ensemble_0', num_units=5, params=params)\n",
    "ensemble_1 = LIFEnsemble(identifier = 'ensemble_1', num_units=5, params=params)\n",
    "ensemble_2 = LIFEnsemble(identifier = 'ensemble_2', num_units=5, params=params)\n",
    "\n",
    "# First set of synapses\n",
    "synapse_0_1 = Synapse(identifier = 'synapse_0_1', src_ensemble=ensemble_0, dst_ensemble=ensemble_1,\n",
    "                        weight_max=50, weight_min=0)\n",
    "synapse_0_1.weights = torch.rand(ensemble_0.num_units, ensemble_1.num_units) * 100\n",
    "synapse_0_1.connections = torch.randint(0, 2, (ensemble_0.num_units, ensemble_1.num_units))\n",
    "\n",
    "# Second set of synapses\n",
    "synapse_0_2 = Synapse(identifier = 'synapse_0_2', src_ensemble=ensemble_0, dst_ensemble=ensemble_2,\n",
    "                        weight_max=50, weight_min=0)\n",
    "synapse_0_2.weights = torch.rand(ensemble_0.num_units, ensemble_2.num_units) * 100\n",
    "synapse_0_2.connections = torch.randint(0, 2, (ensemble_0.num_units, ensemble_2.num_units))\n",
    "\n",
    "# Third set of synapses\n",
    "synapse_1_2 = Synapse(identifier = 'synapse_1_2', src_ensemble=ensemble_1, dst_ensemble=ensemble_2,\n",
    "                        weight_max=50, weight_min=0)\n",
    "synapse_1_2.weights = torch.rand(ensemble_1.num_units, ensemble_2.num_units) * 100\n",
    "\n",
    "# Connect all of those in a Network\n",
    "custom_network = Network()\n",
    "custom_network.add_ensembles(ensemble_0, ensemble_1, ensemble_2)\n",
    "custom_network.add_synapses(synapse_0_1, synapse_0_2, synapse_1_2)"
   ]
  },
  {
   "cell_type": "code",
   "execution_count": 45,
   "metadata": {},
   "outputs": [
    {
     "data": {
      "image/png": "[encoded data removed]",
      "text/plain": [
       "<Figure size 640x480 with 1 Axes>"
      ]
     },
     "metadata": {},
     "output_type": "display_data"
    }
   ],
   "source": [
    "nx.draw_networkx(custom_network.graph)"
   ]
  },
  {
   "cell_type": "code",
   "execution_count": 46,
   "metadata": {},
   "outputs": [
    {
     "data": {
      "text/plain": [
       "[LIFEnsemble(), LIFEnsemble(), LIFEnsemble()]"
      ]
     },
     "execution_count": 46,
     "metadata": {},
     "output_type": "execute_result"
    }
   ],
   "source": [
    "custom_network.get_ensembles()"
   ]
  },
  {
   "cell_type": "code",
   "execution_count": 47,
   "metadata": {},
   "outputs": [
    {
     "data": {
      "text/plain": [
       "[Synapse(\n",
       "   (src_ensemble): LIFEnsemble()\n",
       "   (dst_ensemble): LIFEnsemble()\n",
       " ),\n",
       " Synapse(\n",
       "   (src_ensemble): LIFEnsemble()\n",
       "   (dst_ensemble): LIFEnsemble()\n",
       " ),\n",
       " Synapse(\n",
       "   (src_ensemble): LIFEnsemble()\n",
       "   (dst_ensemble): LIFEnsemble()\n",
       " )]"
      ]
     },
     "execution_count": 47,
     "metadata": {},
     "output_type": "execute_result"
    }
   ],
   "source": [
    "custom_network.get_synapses()"
   ]
  },
  {
   "attachments": {},
   "cell_type": "markdown",
   "metadata": {},
   "source": [
    "### Visualizing the connections and weights of Synapse 1 - 2"
   ]
  },
  {
   "cell_type": "code",
   "execution_count": 48,
   "metadata": {},
   "outputs": [
    {
     "data": {
      "text/plain": [
       "<matplotlib.image.AxesImage at 0x7fad61155840>"
      ]
     },
     "execution_count": 48,
     "metadata": {},
     "output_type": "execute_result"
    },
    {
     "data": {
      "image/png": "[encoded data removed]",
      "text/plain": [
       "<Figure size 640x480 with 3 Axes>"
      ]
     },
     "metadata": {},
     "output_type": "display_data"
    }
   ],
   "source": [
    "fig, ax = plt.subplots(nrows=1, ncols=3, sharex=True, sharey=True)\n",
    "\n",
    "ax[0].matshow(custom_network.get_synapses()[0].connections)\n",
    "ax[1].matshow(custom_network.get_synapses()[1].connections)\n",
    "ax[2].matshow(custom_network.get_synapses()[2].connections)\n"
   ]
  },
  {
   "cell_type": "code",
   "execution_count": 49,
   "metadata": {},
   "outputs": [
    {
     "data": {
      "text/plain": [
       "<matplotlib.image.AxesImage at 0x7fad60edc310>"
      ]
     },
     "execution_count": 49,
     "metadata": {},
     "output_type": "execute_result"
    },
    {
     "data": {
      "image/png": "[encoded data removed]",
      "text/plain": [
       "<Figure size 640x480 with 3 Axes>"
      ]
     },
     "metadata": {},
     "output_type": "display_data"
    }
   ],
   "source": [
    "fig, ax = plt.subplots(nrows=1, ncols=3, sharex=True, sharey=True)\n",
    "\n",
    "ax[0].matshow(custom_network.get_synapses()[0].weights)\n",
    "ax[1].matshow(custom_network.get_synapses()[1].weights)\n",
    "ax[2].matshow(custom_network.get_synapses()[2].weights)"
   ]
  },
  {
   "attachments": {},
   "cell_type": "markdown",
   "metadata": {},
   "source": [
    "### Checking which ensemble is considered as the root of our network "
   ]
  },
  {
   "cell_type": "code",
   "execution_count": 50,
   "metadata": {},
   "outputs": [
    {
     "data": {
      "text/plain": [
       "['ensemble_0']"
      ]
     },
     "execution_count": 50,
     "metadata": {},
     "output_type": "execute_result"
    }
   ],
   "source": [
    "custom_network.roots"
   ]
  },
  {
   "attachments": {},
   "cell_type": "markdown",
   "metadata": {},
   "source": [
    "### Running the simulation"
   ]
  },
  {
   "attachments": {},
   "cell_type": "markdown",
   "metadata": {},
   "source": [
    "#### This will need to be modified once the network api is modified "
   ]
  },
  {
   "cell_type": "code",
   "execution_count": 51,
   "metadata": {},
   "outputs": [],
   "source": [
    "voltage = []\n",
    "\n",
    "for i in range(steps):\n",
    "    input = [I[i].repeat(ensemble_0.num_units)]   # each step's input is passed to all neurons in the root ensemble\n",
    "    custom_network(input)\n",
    "    voltage.append([custom_network.get_ensembles()[i].volt_mem for i in range(len(custom_network.get_ensembles()))])"
   ]
  },
  {
   "cell_type": "code",
   "execution_count": 52,
   "metadata": {},
   "outputs": [
    {
     "data": {
      "text/plain": [
       "[tensor([-65.1317, -59.6871, -55.8492, -59.5017, -51.6784]),\n",
       " tensor([-65.1317, -59.6871, -55.8492, -59.5017, -51.6784]),\n",
       " tensor([-65.1317, -59.6871, -55.8492, -59.5017, -51.6784])]"
      ]
     },
     "execution_count": 52,
     "metadata": {},
     "output_type": "execute_result"
    }
   ],
   "source": [
    "voltage[0]"
   ]
  },
  {
   "cell_type": "code",
   "execution_count": 53,
   "metadata": {},
   "outputs": [
    {
     "data": {
      "text/plain": [
       "tensor([-65.1317, -59.6871, -55.8492, -59.5017, -51.6784])"
      ]
     },
     "execution_count": 53,
     "metadata": {},
     "output_type": "execute_result"
    }
   ],
   "source": [
    "voltage_ensemble_0 = [voltage[i][0] for i in range(steps)]\n",
    "voltage_ensemble_0 = torch.stack((voltage_ensemble_0))\n",
    "voltage_ensemble_0[0]"
   ]
  },
  {
   "cell_type": "code",
   "execution_count": 54,
   "metadata": {},
   "outputs": [
    {
     "data": {
      "text/plain": [
       "tensor([-65.1317, -59.6871, -55.8492, -59.5017, -51.6784])"
      ]
     },
     "execution_count": 54,
     "metadata": {},
     "output_type": "execute_result"
    }
   ],
   "source": [
    "voltage_ensemble_1 = [voltage[i][1] for i in range(steps)]\n",
    "voltage_ensemble_1 = torch.stack((voltage_ensemble_1))\n",
    "voltage_ensemble_1[0]"
   ]
  },
  {
   "cell_type": "code",
   "execution_count": 55,
   "metadata": {},
   "outputs": [
    {
     "data": {
      "text/plain": [
       "tensor([-65.1317, -59.6871, -55.8492, -59.5017, -51.6784])"
      ]
     },
     "execution_count": 55,
     "metadata": {},
     "output_type": "execute_result"
    }
   ],
   "source": [
    "voltage_ensemble_2 = [voltage[i][2] for i in range(steps)]\n",
    "voltage_ensemble_2 = torch.stack((voltage_ensemble_2))\n",
    "voltage_ensemble_2[0]"
   ]
  },
  {
   "cell_type": "code",
   "execution_count": 56,
   "metadata": {},
   "outputs": [
    {
     "data": {
      "image/png": "[encoded data removed]",
      "text/plain": [
       "<Figure size 640x480 with 3 Axes>"
      ]
     },
     "metadata": {},
     "output_type": "display_data"
    }
   ],
   "source": [
    "# Plots \n",
    "\n",
    "fig, ax = plt.subplots(nrows=3, ncols=1, sharex=True, sharey=True)\n",
    "\n",
    "ax[0].plot(range(steps), voltage_ensemble_0)\n",
    "ax[1].plot(range(steps), voltage_ensemble_1)\n",
    "ax[2].plot(range(steps), voltage_ensemble_2)\n",
    "\n",
    "plt.show()"
   ]
  }
 ],
 "metadata": {
  "kernelspec": {
   "display_name": "Python 3 (ipykernel)",
   "language": "python",
   "name": "python3"
  },
  "language_info": {
   "codemirror_mode": {
    "name": "ipython",
    "version": 3
   },
   "file_extension": ".py",
   "mimetype": "text/x-python",
   "name": "python",
   "nbconvert_exporter": "python",
   "pygments_lexer": "ipython3",
   "version": "3.10.9"
  },
  "orig_nbformat": 4,
  "vscode": {
   "interpreter": {
    "hash": "92bf5b62da1e2e2e667efbcc58a2d6087e0d08e04e9f5bd6e5eaee78a8be16f1"
   }
  }
 },
 "nbformat": 4,
 "nbformat_minor": 2
}
