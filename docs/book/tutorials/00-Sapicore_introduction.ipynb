{
 "cells": [
  {
   "attachments": {},
   "cell_type": "markdown",
   "metadata": {},
   "source": [
    "Welcome to Sapicore ! We are going to introduce you to the in and out of working with sapicore to simulate spiking neural networks, from the single neuron and network specifications to training your network. "
   ]
  },
  {
   "attachments": {},
   "cell_type": "markdown",
   "metadata": {},
   "source": [
    "Sapicore is organized into several distincts submodules. \n",
    "- **data** : This module provides a uniform API for handling various datasets\n",
    "- **engine** : This module provide all the necessities for simulating networks\n",
    "- **model** : This module define model training, testing and analysis\n",
    "- **pipeline** : This module provide basic pipeline orchestration code\n",
    "- **utils** : This module contains various utilities scripts."
   ]
  },
  {
   "attachments": {},
   "cell_type": "markdown",
   "metadata": {},
   "source": [
    "Sapicore allows you to specify your model either using a programmatic approach or a YAML file specification. We will explore both options in the next few tutorials."
   ]
  },
  {
   "attachments": {},
   "cell_type": "markdown",
   "metadata": {},
   "source": []
  }
 ],
 "metadata": {
  "language_info": {
   "name": "python"
  },
  "orig_nbformat": 4
 },
 "nbformat": 4,
 "nbformat_minor": 2
}
